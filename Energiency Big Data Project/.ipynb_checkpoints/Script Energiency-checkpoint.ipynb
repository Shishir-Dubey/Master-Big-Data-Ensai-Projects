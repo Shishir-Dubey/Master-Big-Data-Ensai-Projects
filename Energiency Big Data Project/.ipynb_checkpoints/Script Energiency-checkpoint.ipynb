{
 "cells": [
  {
   "cell_type": "code",
   "execution_count": 14,
   "metadata": {
    "collapsed": true
   },
   "outputs": [],
   "source": [
    "## %matplotlib inline\n",
    "\n",
    "import pandas as pd\n",
    "import numpy as np\n",
    "import matplotlib.pyplot as plt"
   ]
  },
  {
   "cell_type": "markdown",
   "metadata": {},
   "source": [
    "## Importing The Different DataSets"
   ]
  },
  {
   "cell_type": "code",
   "execution_count": 135,
   "metadata": {
    "collapsed": false
   },
   "outputs": [],
   "source": [
    "prod1=pd.read_csv(\"/home/moustapha/Energiency Big Data Project/Archive/PM1_production.csv\")\n",
    "prodh1=pd.read_csv(\"/home/moustapha/Energiency Big Data Project/Archive/PM1_productionH.csv\")\n",
    "elec1=pd.read_csv(\"/home/moustapha/Energiency Big Data Project/Archive/PM1_electricity.csv\")\n",
    "planstop1=pd.read_csv(\"/home/moustapha/Energiency Big Data Project/Archive/PM1stop.csv\")\n",
    "gram1= pd.read_csv(\"/home/moustapha/Energiency Big Data Project/Archive/PM1_gram.csv\")\n",
    "\n",
    "prod2=pd.read_csv(\"/home/moustapha/Energiency Big Data Project/Archive/PM2_production.csv\")\n",
    "prodh2=pd.read_csv(\"/home/moustapha/Energiency Big Data Project/Archive/PM2_productionH.csv\")\n",
    "elec2=pd.read_csv(\"/home/moustapha/Energiency Big Data Project/Archive/PM2_electricity.csv\")\n",
    "planstop2=pd.read_csv(\"/home/moustapha/Energiency Big Data Project/Archive/PM2stop.csv\")\n",
    "gram2= pd.read_csv(\"/home/moustapha/Energiency Big Data Project/Archive/PM2_gram.csv\")"
   ]
  },
  {
   "cell_type": "code",
   "execution_count": 136,
   "metadata": {
    "collapsed": false
   },
   "outputs": [
    {
     "data": {
      "text/plain": [
       "DatetimeIndex(['2015-06-24 05:05:00', '2015-06-24 05:15:00',\n",
       "               '2015-06-24 05:25:00', '2015-06-24 05:35:00',\n",
       "               '2015-06-24 05:45:00', '2015-06-24 05:55:00',\n",
       "               '2015-06-24 06:05:00', '2015-06-24 06:15:00',\n",
       "               '2015-06-24 06:25:00', '2015-06-24 06:35:00',\n",
       "               ...\n",
       "               '2016-01-26 06:25:00', '2016-01-26 06:35:00',\n",
       "               '2016-01-26 06:45:00', '2016-01-26 06:55:00',\n",
       "               '2016-01-26 07:05:00', '2016-01-26 07:15:00',\n",
       "               '2016-01-26 07:25:00', '2016-01-26 07:35:00',\n",
       "               '2016-01-26 07:45:00', '2016-01-26 07:55:00'],\n",
       "              dtype='datetime64[ns]', length=30923, freq=None)"
      ]
     },
     "execution_count": 136,
     "metadata": {},
     "output_type": "execute_result"
    }
   ],
   "source": [
    "pd.DatetimeIndex(prod1[\"date\"])"
   ]
  },
  {
   "cell_type": "code",
   "execution_count": 137,
   "metadata": {
    "collapsed": false
   },
   "outputs": [
    {
     "name": "stdout",
     "output_type": "stream",
     "text": [
      "                        date  quantity\n",
      "0  2015-06-24 05:05:00+00:00         0\n",
      "1  2015-06-24 05:15:00+00:00         0\n",
      "2  2015-06-24 05:25:00+00:00         0\n",
      "                        date   quantity\n",
      "0  2012-12-31 23:00:00+00:00  35.539299\n",
      "1  2013-01-01 00:00:00+00:00  35.550900\n",
      "2  2013-01-01 01:00:00+00:00  35.540699\n",
      "                        date  quantity\n",
      "0  2012-12-31 23:03:00+00:00   14.2307\n",
      "1  2012-12-31 23:13:00+00:00   14.1276\n",
      "2  2012-12-31 23:23:00+00:00   13.9996\n",
      "                        date  quantity\n",
      "0  2015-01-05 06:00:00+00:00         0\n",
      "1  2015-01-19 22:00:00+00:00         0\n",
      "2  2015-01-19 22:00:00+00:00         1\n",
      "                        date  quantity\n",
      "0  2015-03-31 21:58:00+00:00         0\n",
      "1  2015-03-31 22:51:00+00:00    450010\n",
      "2  2015-03-31 22:52:00+00:00         0\n"
     ]
    }
   ],
   "source": [
    "print(prod1.head(3))\n",
    "print(prodh1.head(3))\n",
    "print(elec1.head(3))\n",
    "print(planstop1.head(3))\n",
    "print(gram1.head(3))"
   ]
  },
  {
   "cell_type": "code",
   "execution_count": 138,
   "metadata": {
    "collapsed": false
   },
   "outputs": [
    {
     "name": "stdout",
     "output_type": "stream",
     "text": [
      "                        date  quantity\n",
      "0  2015-06-24 05:05:00+00:00         0\n",
      "1  2015-06-24 05:15:00+00:00         0\n",
      "2  2015-06-24 05:24:00+00:00         0\n",
      "                        date   quantity\n",
      "0  2012-12-31 23:00:00+00:00  42.300201\n",
      "1  2013-01-01 00:00:00+00:00  42.351601\n",
      "2  2013-01-01 01:00:00+00:00  43.825100\n",
      "                        date   quantity\n",
      "0  2012-12-31 23:03:00+00:00  22.789400\n",
      "1  2012-12-31 23:13:00+00:00  22.665899\n",
      "2  2012-12-31 23:23:00+00:00  22.670700\n",
      "                        date  quantity\n",
      "0  2015-01-02 01:00:00+00:00         0\n",
      "1  2015-01-02 09:00:00+00:00         0\n",
      "2  2015-01-02 09:00:00+00:00         1\n",
      "                        date  quantity\n",
      "0  2015-03-31 21:14:00+00:00         0\n",
      "1  2015-03-31 22:24:00+00:00       123\n",
      "2  2015-03-31 22:25:00+00:00         0\n"
     ]
    }
   ],
   "source": [
    "print(prod2.head(3))\n",
    "print(prodh2.head(3))\n",
    "print(elec2.head(3))\n",
    "print(planstop2.head(3))\n",
    "print(gram2.head(3))"
   ]
  },
  {
   "cell_type": "markdown",
   "metadata": {},
   "source": [
    "## Creation of dataframes in different frequency for machine 1"
   ]
  },
  {
   "cell_type": "code",
   "execution_count": 144,
   "metadata": {
    "collapsed": false
   },
   "outputs": [],
   "source": [
    "prod=prod1.set_index(pd.DatetimeIndex(prod1[\"date\"]))\n",
    "prodh=prodh1.set_index(pd.DatetimeIndex(prodh1[\"date\"]))\n",
    "elec=elec1.set_index(pd.DatetimeIndex(elec1[\"date\"]))\n",
    "planstop=planstop1.set_index(pd.DatetimeIndex(planstop1[\"date\"]))\n",
    "gram=gram1.set_index(pd.DatetimeIndex(gram1[\"date\"]))"
   ]
  },
  {
   "cell_type": "code",
   "execution_count": 128,
   "metadata": {
    "collapsed": false
   },
   "outputs": [
    {
     "name": "stderr",
     "output_type": "stream",
     "text": [
      "/home/moustapha/anaconda3/lib/python3.5/site-packages/ipykernel/__main__.py:4: SettingWithCopyWarning:\n",
      "\n",
      "\n",
      "A value is trying to be set on a copy of a slice from a DataFrame\n",
      "\n",
      "See the caveats in the documentation: http://pandas.pydata.org/pandas-docs/stable/indexing.html#indexing-view-versus-copy\n",
      "\n"
     ]
    }
   ],
   "source": [
    "plan1=planstop\n",
    "for day in range(1,len(planstop)):\n",
    "    if plan1[\"date\"][day]==plan1[\"date\"][day-1] :\n",
    "        plan1[\"quantity\"][day-1]=plan1[\"quantity\"][day]"
   ]
  },
  {
   "cell_type": "markdown",
   "metadata": {},
   "source": [
    "## Resampling the different dataset by hours"
   ]
  },
  {
   "cell_type": "markdown",
   "metadata": {},
   "source": [
    "Dummy Resampling by 10 minute for all the different datasets"
   ]
  },
  {
   "cell_type": "code",
   "execution_count": 92,
   "metadata": {
    "collapsed": true
   },
   "outputs": [],
   "source": [
    "# frq=\"10T\"   ## the frequency of resampling 10 min\n",
    "\n",
    "frq=\"H\"   ## the frequency of resampling one hour"
   ]
  },
  {
   "cell_type": "code",
   "execution_count": 95,
   "metadata": {
    "collapsed": false
   },
   "outputs": [],
   "source": [
    "prod=prod.resample(frq)\n",
    "elec= elec.resample(frq)\n",
    "prodh = prodh.resample(frq)\n",
    "gram = gram.resample(frq)\n",
    "planstop=plan1.resample(frq, fill_method=\"pad\")"
   ]
  },
  {
   "cell_type": "code",
   "execution_count": 167,
   "metadata": {
    "collapsed": false
   },
   "outputs": [
    {
     "name": "stdout",
     "output_type": "stream",
     "text": [
      "prodh 53777\n",
      "elec 53778\n",
      "gram 15728\n",
      "planstop 21001\n",
      "prod 10374\n"
     ]
    }
   ],
   "source": [
    "    print(\"prodh\",len(prodh))\n",
    "    print(\"elec\",len(elec))\n",
    "    print(\"gram\",len(gram))\n",
    "    print(\"planstop\",len(planstop))\n",
    "    print(\"prod\",len(prod))"
   ]
  },
  {
   "cell_type": "code",
   "execution_count": 97,
   "metadata": {
    "collapsed": false
   },
   "outputs": [],
   "source": [
    "prod.columns=[\"prod\"]\n",
    "prodh.columns=[\"prodh\"]\n",
    "elec.columns=[\"elec\"]\n",
    "planstop.columns=[\"planstop\"]\n",
    "gram.columns=[\"gram\"]"
   ]
  },
  {
   "cell_type": "code",
   "execution_count": 101,
   "metadata": {
    "collapsed": false
   },
   "outputs": [],
   "source": [
    "frames = [prodh,elec,gram,planstop,prod]"
   ]
  },
  {
   "cell_type": "code",
   "execution_count": 108,
   "metadata": {
    "collapsed": false
   },
   "outputs": [],
   "source": [
    "all1h1=pd.concat(frames, axis=1)"
   ]
  },
  {
   "cell_type": "code",
   "execution_count": 110,
   "metadata": {
    "collapsed": false
   },
   "outputs": [
    {
     "data": {
      "text/html": [
       "<div>\n",
       "<table border=\"1\" class=\"dataframe\">\n",
       "  <thead>\n",
       "    <tr style=\"text-align: right;\">\n",
       "      <th></th>\n",
       "      <th>prodh</th>\n",
       "      <th>elec</th>\n",
       "      <th>gram</th>\n",
       "      <th>planstop</th>\n",
       "      <th>prod</th>\n",
       "    </tr>\n",
       "  </thead>\n",
       "  <tbody>\n",
       "    <tr>\n",
       "      <th>2012-12-31 23:00:00</th>\n",
       "      <td>35.539299</td>\n",
       "      <td>14.134917</td>\n",
       "      <td>NaN</td>\n",
       "      <td>NaN</td>\n",
       "      <td>NaN</td>\n",
       "    </tr>\n",
       "    <tr>\n",
       "      <th>2013-01-01 00:00:00</th>\n",
       "      <td>35.550900</td>\n",
       "      <td>14.181917</td>\n",
       "      <td>NaN</td>\n",
       "      <td>NaN</td>\n",
       "      <td>NaN</td>\n",
       "    </tr>\n",
       "    <tr>\n",
       "      <th>2013-01-01 01:00:00</th>\n",
       "      <td>35.540699</td>\n",
       "      <td>14.160217</td>\n",
       "      <td>NaN</td>\n",
       "      <td>NaN</td>\n",
       "      <td>NaN</td>\n",
       "    </tr>\n",
       "    <tr>\n",
       "      <th>2013-01-01 02:00:00</th>\n",
       "      <td>35.551399</td>\n",
       "      <td>14.126517</td>\n",
       "      <td>NaN</td>\n",
       "      <td>NaN</td>\n",
       "      <td>NaN</td>\n",
       "    </tr>\n",
       "    <tr>\n",
       "      <th>2013-01-01 03:00:00</th>\n",
       "      <td>35.639801</td>\n",
       "      <td>14.330300</td>\n",
       "      <td>NaN</td>\n",
       "      <td>NaN</td>\n",
       "      <td>NaN</td>\n",
       "    </tr>\n",
       "  </tbody>\n",
       "</table>\n",
       "</div>"
      ],
      "text/plain": [
       "                         prodh       elec  gram  planstop  prod\n",
       "2012-12-31 23:00:00  35.539299  14.134917   NaN       NaN   NaN\n",
       "2013-01-01 00:00:00  35.550900  14.181917   NaN       NaN   NaN\n",
       "2013-01-01 01:00:00  35.540699  14.160217   NaN       NaN   NaN\n",
       "2013-01-01 02:00:00  35.551399  14.126517   NaN       NaN   NaN\n",
       "2013-01-01 03:00:00  35.639801  14.330300   NaN       NaN   NaN"
      ]
     },
     "execution_count": 110,
     "metadata": {},
     "output_type": "execute_result"
    }
   ],
   "source": [
    "all1h1.head()"
   ]
  },
  {
   "cell_type": "code",
   "execution_count": 114,
   "metadata": {
    "collapsed": false
   },
   "outputs": [],
   "source": []
  },
  {
   "cell_type": "code",
   "execution_count": 113,
   "metadata": {
    "collapsed": false
   },
   "outputs": [
    {
     "data": {
      "image/png": "[encoded data removed]",
      "text/plain": [
       "<matplotlib.figure.Figure at 0x7f41a3ca4390>"
      ]
     },
     "metadata": {},
     "output_type": "display_data"
    }
   ],
   "source": [
    "plt.plot(all1h1.index,all1h1[\"prodh\"])\n",
    "plt.show()"
   ]
  },
  {
   "cell_type": "code",
   "execution_count": null,
   "metadata": {
    "collapsed": true
   },
   "outputs": [],
   "source": [
    "## Resampling by 30 minute"
   ]
  },
  {
   "cell_type": "code",
   "execution_count": 166,
   "metadata": {
    "collapsed": false
   },
   "outputs": [],
   "source": [
    "## Function for create the dataset for machine 1, with the frequency in parameter\n",
    "### 10T: 10minute , H : hour\n",
    "\n",
    "def machine1data(frq):   \n",
    "    prod=prod1.set_index(pd.DatetimeIndex(prod1[\"date\"]))\n",
    "    prodh=prodh1.set_index(pd.DatetimeIndex(prodh1[\"date\"]))\n",
    "    elec=elec1.set_index(pd.DatetimeIndex(elec1[\"date\"]))\n",
    "    planstop=planstop1.set_index(pd.DatetimeIndex(planstop1[\"date\"]))\n",
    "    gram=gram1.set_index(pd.DatetimeIndex(gram1[\"date\"]))\n",
    "\n",
    "    plan1=planstop\n",
    "    for day in range(1,len(planstop)):\n",
    "        if plan1[\"date\"][day]==plan1[\"date\"][day-1] :\n",
    "            plan1[\"quantity\"][day-1]=plan1[\"quantity\"][day]\n",
    "\n",
    "    # frq=\"10T\"   ## the frequency of resampling 10 min\n",
    "\n",
    "    ## the frequency of resampling one hour\n",
    "\n",
    "    prod=prod.resample(frq)\n",
    "    elec= elec.resample(frq)\n",
    "    prodh = prodh.resample(frq)\n",
    "    gram = gram.resample(frq)\n",
    "    planstop=plan1.resample(frq, fill_method=\"pad\")\n",
    "\n",
    "    print(\"prodh\",len(prodh))\n",
    "    print(\"elec\",len(elec))\n",
    "    print(\"gram\",len(gram))\n",
    "    print(\"planstop\",len(planstop))\n",
    "    print(\"prod\",len(prod))\n",
    "\n",
    "    prod.columns=[\"prod\"]\n",
    "    prodh.columns=[\"prodh\"]\n",
    "    elec.columns=[\"elec\"]\n",
    "    planstop.columns=[\"planstop\"]\n",
    "    gram.columns=[\"gram\"]\n",
    "\n",
    "    frames = [prodh,elec,gram,planstop,prod]\n",
    "    data=pd.concat(frames, axis=1)\n",
    "    \n",
    "    return(data)"
   ]
  },
  {
   "cell_type": "code",
   "execution_count": 152,
   "metadata": {
    "collapsed": false
   },
   "outputs": [
    {
     "name": "stdout",
     "output_type": "stream",
     "text": [
      "53777\n",
      "53778\n",
      "15728\n",
      "21001\n",
      "10374\n",
      "161329\n",
      "161334\n",
      "47182\n",
      "63001\n",
      "31122\n"
     ]
    },
    {
     "name": "stderr",
     "output_type": "stream",
     "text": [
      "/home/moustapha/anaconda3/lib/python3.5/site-packages/ipykernel/__main__.py:11: SettingWithCopyWarning:\n",
      "\n",
      "\n",
      "A value is trying to be set on a copy of a slice from a DataFrame\n",
      "\n",
      "See the caveats in the documentation: http://pandas.pydata.org/pandas-docs/stable/indexing.html#indexing-view-versus-copy\n",
      "\n"
     ]
    }
   ],
   "source": [
    "all30M1=machine1data(\"30T\")\n",
    "all10M1=machine1data(\"10T\")"
   ]
  },
  {
   "cell_type": "code",
   "execution_count": 154,
   "metadata": {
    "collapsed": true
   },
   "outputs": [],
   "source": [
    "all1h1.to_csv(path_or_buf=\"/home/moustapha/Energiency Big Data Project/Archive/all1h1.csv\", sep=',', na_rep='', \n",
    "                 float_format=None, columns=None, header=True)\n",
    "all30M1.to_csv(path_or_buf=\"/home/moustapha/Energiency Big Data Project/Archive/all30M1.csv\", sep=',', na_rep='', \n",
    "                 float_format=None, columns=None, header=True)\n",
    "all10M1.to_csv(path_or_buf=\"/home/moustapha/Energiency Big Data Project/Archive/all10M1.csv\", sep=',', na_rep='', \n",
    "                 float_format=None, columns=None, header=True)"
   ]
  },
  {
   "cell_type": "markdown",
   "metadata": {},
   "source": [
    "## Creation of dataframes in different frequency for machine 2"
   ]
  },
  {
   "cell_type": "code",
   "execution_count": 164,
   "metadata": {
    "collapsed": false
   },
   "outputs": [],
   "source": [
    "## Function for create the dataset for machine 2, with the frequency in parameter\n",
    "\n",
    "def machine2data(frq):   \n",
    "    prod=prod2.set_index(pd.DatetimeIndex(prod2[\"date\"]))\n",
    "    prodh=prodh2.set_index(pd.DatetimeIndex(prodh2[\"date\"]))\n",
    "    elec=elec2.set_index(pd.DatetimeIndex(elec2[\"date\"]))\n",
    "    planstop=planstop2.set_index(pd.DatetimeIndex(planstop2[\"date\"]))\n",
    "    gram=gram2.set_index(pd.DatetimeIndex(gram2[\"date\"]))\n",
    "\n",
    "\n",
    "    plan2=planstop\n",
    "    for day in range(1,len(planstop)):\n",
    "        if plan2[\"date\"][day]==plan2[\"date\"][day-1] :\n",
    "            plan2[\"quantity\"][day-1]=plan2[\"quantity\"][day]\n",
    "\n",
    "    # frq=\"10T\"   ## the frequency of resampling 10 min\n",
    "\n",
    "    ## the frequency of resampling one hour\n",
    "\n",
    "    prod=prod.resample(frq)\n",
    "    elec= elec.resample(frq)\n",
    "    prodh = prodh.resample(frq)\n",
    "    gram = gram.resample(frq)\n",
    "    planstop=plan1.resample(frq, fill_method=\"pad\")\n",
    "\n",
    "    print(\"prodh\",len(prodh))\n",
    "    print(\"elec\",len(elec))\n",
    "    print(\"gram\",len(gram))\n",
    "    print(\"planstop\",len(planstop))\n",
    "    print(\"prod\",len(prod))\n",
    "\n",
    "    prod.columns=[\"prod\"]\n",
    "    prodh.columns=[\"prodh\"]\n",
    "    elec.columns=[\"elec\"]\n",
    "    planstop.columns=[\"planstop\"]\n",
    "    gram.columns=[\"gram\"]\n",
    "\n",
    "    frames = [prodh,elec,gram,planstop,prod]\n",
    "    data=pd.concat(frames, axis=1)\n",
    "    \n",
    "    return(data)"
   ]
  },
  {
   "cell_type": "code",
   "execution_count": 165,
   "metadata": {
    "collapsed": false
   },
   "outputs": [
    {
     "name": "stdout",
     "output_type": "stream",
     "text": [
      "prodh 26889\n",
      "elec 26889\n",
      "gram 7865\n",
      "planstop 10501\n",
      "prod 5187\n",
      "prodh 53777\n",
      "elec 53778\n",
      "gram 15730\n",
      "planstop 21001\n",
      "prod 10374\n",
      "prodh 161329\n",
      "elec 161334\n",
      "gram 47187\n",
      "planstop 63001\n",
      "prod 31122\n"
     ]
    },
    {
     "name": "stderr",
     "output_type": "stream",
     "text": [
      "/home/moustapha/anaconda3/lib/python3.5/site-packages/ipykernel/__main__.py:14: SettingWithCopyWarning:\n",
      "\n",
      "\n",
      "A value is trying to be set on a copy of a slice from a DataFrame\n",
      "\n",
      "See the caveats in the documentation: http://pandas.pydata.org/pandas-docs/stable/indexing.html#indexing-view-versus-copy\n",
      "\n"
     ]
    }
   ],
   "source": [
    "## Creating the data sets, with frequency 1 hour, 30 minutes and 10 minutes\n",
    "\n",
    "all1h2=machine2data(\"H\")\n",
    "all30M2=machine2data(\"30T\")\n",
    "all10M2=machine2data(\"10T\")"
   ]
  },
  {
   "cell_type": "code",
   "execution_count": 168,
   "metadata": {
    "collapsed": true
   },
   "outputs": [],
   "source": [
    "## saving the differents csv files\n",
    "\n",
    "all1h2.to_csv(path_or_buf=\"/home/moustapha/Energiency Big Data Project/Archive/all1h2.csv\", sep=',', na_rep='', \n",
    "                 float_format=None, columns=None, header=True)\n",
    "all30M2.to_csv(path_or_buf=\"/home/moustapha/Energiency Big Data Project/Archive/all30M2.csv\", sep=',', na_rep='', \n",
    "                 float_format=None, columns=None, header=True)\n",
    "all10M2.to_csv(path_or_buf=\"/home/moustapha/Energiency Big Data Project/Archive/all10M2.csv\", sep=',', na_rep='', \n",
    "                 float_format=None, columns=None, header=True)"
   ]
  }
 ],
 "metadata": {
  "kernelspec": {
   "display_name": "Python 3",
   "language": "python",
   "name": "python3"
  },
  "language_info": {
   "codemirror_mode": {
    "name": "ipython",
    "version": 3
   },
   "file_extension": ".py",
   "mimetype": "text/x-python",
   "name": "python",
   "nbconvert_exporter": "python",
   "pygments_lexer": "ipython3",
   "version": "3.5.1"
  }
 },
 "nbformat": 4,
 "nbformat_minor": 0
}
